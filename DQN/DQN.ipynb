{
 "cells": [
  {
   "cell_type": "code",
   "execution_count": 1,
   "metadata": {},
   "outputs": [],
   "source": [
    "import os \n",
    "from typing import Dict, List, Tuple\n",
    "from tqdm import tqdm\n",
    "import time\n",
    "\n",
    "import gym\n",
    "import matplotlib.pyplot as plt\n",
    "import numpy as np\n",
    "import torch\n",
    "import torch.nn as nn\n",
    "import torch.nn.functional as F\n",
    "import torch.optim as optim\n",
    "from IPython.display import clear_output"
   ]
  },
  {
   "cell_type": "code",
   "execution_count": 2,
   "metadata": {
    "scrolled": true
   },
   "outputs": [
    {
     "name": "stdout",
     "output_type": "stream",
     "text": [
      "0\n",
      "GeForce RTX 2060\n"
     ]
    }
   ],
   "source": [
    "print(torch.cuda.current_device())\n",
    "print(torch.cuda.get_device_name(torch.cuda.current_device()))"
   ]
  },
  {
   "cell_type": "markdown",
   "metadata": {},
   "source": [
    "# Reply buffer\n"
   ]
  },
  {
   "cell_type": "code",
   "execution_count": 3,
   "metadata": {},
   "outputs": [],
   "source": [
    "class ReplayBuffer:\n",
    "    def __init__(self, state_size: int, buffer_size: int, batch_zise: int):\n",
    "        self.states_buf = np.zeros([buffer_size, state_size], dtype= np.float32)\n",
    "        self.actions_buf = np.zeros([buffer_size], dtype= np.float32)\n",
    "        self.rewards_buf = np.zeros([buffer_size], dtype = np.float32)\n",
    "        self.next_states_buf = np.zeros([buffer_size, state_size], dtype= np.float32)\n",
    "        self.done_buf = np.zeros([buffer_size], dtype= np.float32)\n",
    "        self.max_size, self.batch_size = buffer_size, batch_size\n",
    "        self.counter, self.size = 0, 0\n",
    "        \n",
    "    def store(self, transition: dict): #transition : dict\n",
    "\n",
    "        self.states_buf[self.counter] = transition[\"state\"]\n",
    "        self.actions_buf[self.counter] = transition[\"action\"]\n",
    "        self.rewards_buf[self.counter] = transition[\"reward\"]\n",
    "        self.next_states_buf[self.counter] = transition[\"next_state\"]\n",
    "        self.done_buf[self.counter] = transition[\"done\"]\n",
    "        \n",
    "        self.counter = (self.counter+1) % self.max_size\n",
    "        self.size = min(self.size+1, self.max_size)\n",
    "   \n",
    "        \n",
    "    def sample_batch(self) -> Dict[str, np.ndarray]:\n",
    "        random_idx = np.random.choice(self.size, size= self.batch_size, replace=False)\n",
    "        random_samples = dict(states=self.states_buf[random_idx], \n",
    "                              actions=self.actions_buf[random_idx],\n",
    "                              rewards=self.rewards_buf[random_idx],\n",
    "                              next_states=self.next_states_buf[random_idx],\n",
    "                              done=self.done_buf[random_idx])\n",
    "        return random_samples"
   ]
  },
  {
   "cell_type": "markdown",
   "metadata": {},
   "source": [
    "# Network"
   ]
  },
  {
   "cell_type": "code",
   "execution_count": 4,
   "metadata": {},
   "outputs": [],
   "source": [
    "class Network(nn.Module):\n",
    "    def __init__(self, in_dim: int, out_dim: int):\n",
    "        super(Network, self).__init__()\n",
    "\n",
    "        \n",
    "        self.layers = nn.Sequential(\n",
    "            nn.Linear(in_dim, 256),\n",
    "            nn.ReLU(),\n",
    "            nn.Linear(256, 128),\n",
    "            nn.ReLU(),\n",
    "            nn.Linear(128, 64),\n",
    "            nn.ReLU(),\n",
    "            nn.Linear(64, out_dim),\n",
    "            nn.ReLU())\n",
    "        \n",
    "    def forward(self, x: torch.Tensor) -> torch.Tensor:\n",
    "        return self.layers(x)\n",
    "        "
   ]
  },
  {
   "cell_type": "markdown",
   "metadata": {},
   "source": [
    "# DQN Agent"
   ]
  },
  {
   "cell_type": "code",
   "execution_count": 5,
   "metadata": {},
   "outputs": [],
   "source": [
    "class DQNAgent:\n",
    "    \n",
    "    def __init__(\n",
    "        self,\n",
    "        env: gym.Env,\n",
    "        memory_size: int,\n",
    "        batch_size: int,\n",
    "        hard_update_every: int,\n",
    "        epsilon_param: dict,\n",
    "        gamma:float,\n",
    "    ):\n",
    "        \n",
    "        states_dim = env.observation_space.shape[0]\n",
    "        action_dim = env.action_space.n\n",
    "        \n",
    "        #Initialization\n",
    "        self.env = env\n",
    "        self.memory = ReplayBuffer(states_dim, memory_size, batch_size)\n",
    "        self.batch_size = batch_size\n",
    "        self.hard_update_every = hard_update_every\n",
    "        self.epsilon_max = epsilon_param['epsilon_max']\n",
    "        self.epsilon_min = epsilon_param['epsilon_min']\n",
    "        self.epsilon_decay = epsilon_param['epsilon_decay']\n",
    "        self.epsilon = self.epsilon_max\n",
    "        self.gamma = gamma\n",
    "        \n",
    "        #device: cpu or gpu\n",
    "        self.device = torch.device(\n",
    "            \"cuda\" if torch.cuda.is_available() else \"cpu\"\n",
    "        )\n",
    "        print(self.device)\n",
    "        \n",
    "        #Initialization of the networks\n",
    "        self.dqn = Network(states_dim, action_dim).to(self.device)\n",
    "        self.target_dqn = Network(states_dim, action_dim).to(self.device)\n",
    "        self.target_dqn.load_state_dict(self.dqn.state_dict())\n",
    "        self.target_dqn.eval()\n",
    "        # .eval(): will notify all your layers that you are in eval mode, that way, \n",
    "        #batchnorm or dropout layers will work in eval mode instead of training mode\n",
    "        \n",
    "        #optimizer\n",
    "        self.optimizer = optim.Adam(self.dqn.parameters())\n",
    "        \n",
    "        #transition to store in memory\n",
    "        self.transition = dict()\n",
    "        \n",
    "        #mode: train or test\n",
    "        self.is_training = True\n",
    "        \n",
    "############################# Action selection#################################     \n",
    "    \n",
    "    def select_action(self, state: np.ndarray)-> np.ndarray:\n",
    "        \n",
    "        \n",
    "        if self.epsilon > np.random.random() : #explore\n",
    "            selected_action = self.env.action_space.sample()\n",
    "        else: #exploit\n",
    "            selected_action = self.dqn(\n",
    "                torch.FloatTensor(state).to(self.device)\n",
    "            ).argmax()\n",
    "            selected_action = selected_action.detach().cpu().numpy() #convert action from tensor to numpy\n",
    "        \n",
    "        if self.is_training:\n",
    "            self.transition['state']= state\n",
    "            self.transition['action']= selected_action\n",
    "        \n",
    "        return selected_action\n",
    "    \n",
    "############################# Take action#################################      \n",
    "\n",
    "    def step(self, action: np.ndarray) -> Tuple[np.ndarray, np.float32, bool]:\n",
    "\n",
    "        next_state, reward, done, _ = self.env.step(action)\n",
    "\n",
    "        if self.is_training:\n",
    "            self.transition['next_state']= next_state\n",
    "            self.transition['reward']= reward\n",
    "            self.transition['done']= done\n",
    "            self.memory.store(self.transition)\n",
    "\n",
    "        return next_state, reward, done\n",
    "    \n",
    "############################# Update action#################################         \n",
    "    def update_model(self):\n",
    "    \n",
    "        samples = self.memory.sample_batch()\n",
    "\n",
    "        loss = self._compute_network_loss(samples)\n",
    "\n",
    "        self.optimizer.zero_grad()\n",
    "        loss.backward()\n",
    "        self.optimizer.step()\n",
    "\n",
    "        return loss.item()\n",
    "############################# Compute network Loss#################################\n",
    "    def _compute_network_loss(self, samples: dict) -> torch.Tensor:\n",
    "        \n",
    "        states = torch.FloatTensor(samples['states']).to(self.device)\n",
    "        actions = torch.FloatTensor(samples['actions'].reshape(-1,1)).to(self.device)\n",
    "        rewards = torch.FloatTensor(samples['rewards'].reshape(-1,1)).to(self.device)\n",
    "        next_states = torch.FloatTensor(samples['next_states']).to(self.device)\n",
    "        done = torch.FloatTensor(samples['done'].reshape(-1,1)).to(self.device)\n",
    "        \n",
    "        \n",
    "        current_q_values = self.dqn(states).gather(1,actions.type(torch.LongTensor).to(self.device))\n",
    "        \n",
    "        #Dqn(state) will output all the Q-values for all the actions \n",
    "        #USing gather(1, action) we will return just the Q-value of the chosen actions\n",
    "\n",
    "        next_q_values = self.target_dqn(next_states).max(dim=1, keepdim=True)[0].detach()\n",
    "\n",
    "        #Get max Q value from the target network\n",
    "        # G_t   = r + gamma * v(s_{t+1})  if state != Terminal\n",
    "        #       = r                       otherwise\n",
    "        \n",
    "        mask = 1 - done\n",
    "        \n",
    "        targets = (rewards + self.gamma * next_q_values * mask).to(self.device)\n",
    "        \n",
    "        #calculate dqn loss\n",
    "        loss = F.smooth_l1_loss(current_q_values, targets)\n",
    "        \n",
    "        return loss\n",
    "############################# Training #################################    \n",
    "    def train(self, episodes: int):\n",
    "        self.is_training = True\n",
    " \n",
    "        #state = self.env.reset()\n",
    "        \n",
    "        done_count = 0\n",
    "        epsilons_list = []\n",
    "        losses_list = []\n",
    "        reward_list = []\n",
    "        \n",
    "        ep_len = 0\n",
    "        losses = 0\n",
    "        score = 0\n",
    "        \n",
    "        state = self.env.reset()\n",
    "        \n",
    "        for ep in tqdm(range(1, episodes+1)):\n",
    "            \n",
    "            action = self.select_action(state)\n",
    "            next_state, reward, done = self.step(action)\n",
    "\n",
    "            state = next_state\n",
    "            score += reward\n",
    "            ep_len +=1\n",
    "                \n",
    "            if self.memory.size >= self.batch_size:\n",
    "                \n",
    "                loss = self.update_model()\n",
    "                losses+=loss\n",
    "                \n",
    "                self.epsilon = max(0.1, 0.9997*self.epsilon)\n",
    "                epsilons_list.append(self.epsilon)\n",
    "                \n",
    "                \n",
    "            \n",
    "            if done:\n",
    "                state = self.env.reset()\n",
    "                reward_list.append(score)\n",
    "                losses_list.append(losses/ep_len)\n",
    "                self._target_hard_update()\n",
    "                \n",
    "                done_count+=1\n",
    "                ep_len = 0\n",
    "                losses = 0\n",
    "                score = 0        \n",
    "            \n",
    "                if done_count % 25== 0:\n",
    "                    tqdm.write(\n",
    "                        \"Episode: [{}/{}], score: {}, loss: {:.6f}\".format(ep, episodes, np.average(reward_list[-25:]), losses)\n",
    "                    )\n",
    "        \n",
    "        self.env.close()\n",
    "        return losses_list, reward_list, epsilons_list\n",
    "    \n",
    "############################# Testing #################################        \n",
    "    \n",
    "    def test(self):\n",
    "        self.is_training = False\n",
    "        state = self.env.reset()\n",
    "        done = False\n",
    "        score = 0\n",
    "        \n",
    "        frames = []\n",
    "        while not done:\n",
    "            \n",
    "            frames.append(env.render(mode=\"rgb_array\"))\n",
    "            action = self.select_action(state)\n",
    "            next_state, reward, done = self.step(action)\n",
    "            state = next_state\n",
    "            score += reward\n",
    "        \n",
    "        print(\"score: \", score)\n",
    "        self.env.close()\n",
    "            \n",
    "############################# Hard update for the DQN network ################################# \n",
    "\n",
    "    def _target_hard_update(self,):\n",
    "        \n",
    "        self.target_dqn.load_state_dict(self.dqn.state_dict())\n",
    "        "
   ]
  },
  {
   "cell_type": "markdown",
   "metadata": {},
   "source": [
    "## Plot epsilon test"
   ]
  },
  {
   "cell_type": "code",
   "execution_count": 6,
   "metadata": {},
   "outputs": [
    {
     "data": {
      "text/plain": [
       "[<matplotlib.lines.Line2D at 0x2712378c898>]"
      ]
     },
     "execution_count": 6,
     "metadata": {},
     "output_type": "execute_result"
    },
    {
     "data": {
      "image/png": "[encoded data removed]",
      "text/plain": [
       "<Figure size 432x288 with 1 Axes>"
      ]
     },
     "metadata": {
      "needs_background": "light"
     },
     "output_type": "display_data"
    }
   ],
   "source": [
    "episodes = 20000\n",
    "max_epsilon: float = 1.0\n",
    "min_epsilon: float = 0.01\n",
    "epsilon_decay = 5/episodes\n",
    "epsilons = []\n",
    "ep = 1.0\n",
    "for step in range(episodes):\n",
    "    #epsilons.append( max(min_epsilon, min_epsilon + (max_epsilon - min_epsilon)* \\\n",
    "    #                               np.exp(-epsilon_decay*step)) )\n",
    "    \n",
    "#     if ep > 0.05 :\n",
    "#         ep -= (1 / 500)\n",
    "    ep = max(0.1, 0.9997*ep)\n",
    "    epsilons.append(ep)\n",
    "\n",
    "plt.plot(epsilons)"
   ]
  },
  {
   "cell_type": "markdown",
   "metadata": {},
   "source": [
    "# Main"
   ]
  },
  {
   "cell_type": "markdown",
   "metadata": {},
   "source": [
    "## Environement and seeds"
   ]
  },
  {
   "cell_type": "code",
   "execution_count": 7,
   "metadata": {},
   "outputs": [],
   "source": [
    "# environment\n",
    "env_id = \"CartPole-v0\" \n",
    " # \"MountainCar-v0\"\n",
    "env = gym.make(env_id)"
   ]
  },
  {
   "cell_type": "code",
   "execution_count": 8,
   "metadata": {},
   "outputs": [
    {
     "data": {
      "text/plain": [
       "[43]"
      ]
     },
     "execution_count": 8,
     "metadata": {},
     "output_type": "execute_result"
    }
   ],
   "source": [
    "def seed_torch(seed):\n",
    "    torch.manual_seed(seed)\n",
    "    if torch.backends.cudnn.enabled:\n",
    "        torch.backends.cudnn.benchmark = False\n",
    "        torch.backends.cudnn.deterministic = True\n",
    "\n",
    "seed = 43\n",
    "np.random.seed(seed)\n",
    "seed_torch(seed)\n",
    "env.seed(seed)"
   ]
  },
  {
   "cell_type": "code",
   "execution_count": 9,
   "metadata": {},
   "outputs": [
    {
     "data": {
      "text/plain": [
       "True"
      ]
     },
     "execution_count": 9,
     "metadata": {},
     "output_type": "execute_result"
    }
   ],
   "source": [
    "torch.backends.cudnn.enabled"
   ]
  },
  {
   "cell_type": "markdown",
   "metadata": {},
   "source": [
    "## Parameters"
   ]
  },
  {
   "cell_type": "code",
   "execution_count": 10,
   "metadata": {},
   "outputs": [],
   "source": [
    "episodes = 20000\n",
    "memory_size = 10000\n",
    "batch_size = 32\n",
    "hard_update_every = 200\n",
    "\n",
    "# epsilon_param = [eps_max, eps_min, eps_decay]\n",
    "epsilon_param = dict()\n",
    "epsilon_param['epsilon_max'] = 1\n",
    "epsilon_param['epsilon_min'] = 0.01\n",
    "epsilon_param['epsilon_decay']= 10/ episodes\n",
    "\n",
    "gamma = 0.97"
   ]
  },
  {
   "cell_type": "code",
   "execution_count": 11,
   "metadata": {},
   "outputs": [
    {
     "name": "stdout",
     "output_type": "stream",
     "text": [
      "cuda\n"
     ]
    }
   ],
   "source": [
    "#Build our smart agent\n",
    "agent = DQNAgent(env, memory_size, batch_size, hard_update_every, epsilon_param, gamma)"
   ]
  },
  {
   "cell_type": "code",
   "execution_count": 12,
   "metadata": {},
   "outputs": [
    {
     "name": "stderr",
     "output_type": "stream",
     "text": [
      "  3%|█▉                                                                           | 513/20000 [00:04<02:47, 116.31it/s]"
     ]
    },
    {
     "name": "stdout",
     "output_type": "stream",
     "text": [
      "Episode: [499/20000], score: 19.96, loss: 0.000000\n"
     ]
    },
    {
     "name": "stderr",
     "output_type": "stream",
     "text": [
      "  5%|███▊                                                                         | 989/20000 [00:08<02:52, 110.07it/s]"
     ]
    },
    {
     "name": "stdout",
     "output_type": "stream",
     "text": [
      "Episode: [974/20000], score: 19.0, loss: 0.000000\n"
     ]
    },
    {
     "name": "stderr",
     "output_type": "stream",
     "text": [
      "  7%|█████▍                                                                      | 1423/20000 [00:12<02:55, 105.79it/s]"
     ]
    },
    {
     "name": "stdout",
     "output_type": "stream",
     "text": [
      "Episode: [1413/20000], score: 17.56, loss: 0.000000\n"
     ]
    },
    {
     "name": "stderr",
     "output_type": "stream",
     "text": [
      " 11%|████████▏                                                                   | 2170/20000 [00:19<02:41, 110.31it/s]"
     ]
    },
    {
     "name": "stdout",
     "output_type": "stream",
     "text": [
      "Episode: [2152/20000], score: 29.56, loss: 0.000000\n"
     ]
    },
    {
     "name": "stderr",
     "output_type": "stream",
     "text": [
      " 17%|█████████████▎                                                              | 3499/20000 [00:31<02:31, 108.83it/s]"
     ]
    },
    {
     "name": "stdout",
     "output_type": "stream",
     "text": [
      "Episode: [3485/20000], score: 53.32, loss: 0.000000\n"
     ]
    },
    {
     "name": "stderr",
     "output_type": "stream",
     "text": [
      " 28%|█████████████████████▌                                                      | 5679/20000 [00:52<02:22, 100.50it/s]"
     ]
    },
    {
     "name": "stdout",
     "output_type": "stream",
     "text": [
      "Episode: [5662/20000], score: 87.08, loss: 0.000000\n"
     ]
    },
    {
     "name": "stderr",
     "output_type": "stream",
     "text": [
      " 48%|████████████████████████████████████▋                                        | 9517/20000 [01:30<01:45, 99.36it/s]"
     ]
    },
    {
     "name": "stdout",
     "output_type": "stream",
     "text": [
      "Episode: [9503/20000], score: 153.64, loss: 0.000000\n"
     ]
    },
    {
     "name": "stderr",
     "output_type": "stream",
     "text": [
      " 66%|█████████████████████████████████████████████████▍                         | 13194/20000 [02:07<01:05, 104.13it/s]"
     ]
    },
    {
     "name": "stdout",
     "output_type": "stream",
     "text": [
      "Episode: [13176/20000], score: 146.92, loss: 0.000000\n"
     ]
    },
    {
     "name": "stderr",
     "output_type": "stream",
     "text": [
      " 83%|██████████████████████████████████████████████████████████████▉             | 16555/20000 [02:41<00:35, 97.10it/s]"
     ]
    },
    {
     "name": "stdout",
     "output_type": "stream",
     "text": [
      "Episode: [16543/20000], score: 134.68, loss: 0.000000\n"
     ]
    },
    {
     "name": "stderr",
     "output_type": "stream",
     "text": [
      "100%|███████████████████████████████████████████████████████████████████████████| 20000/20000 [03:15<00:00, 102.35it/s]\n"
     ]
    }
   ],
   "source": [
    "#train model\n",
    "losses_list, reward_list, epsilons_list = agent.train(episodes)"
   ]
  },
  {
   "cell_type": "markdown",
   "metadata": {},
   "source": [
    "## Plot"
   ]
  },
  {
   "cell_type": "code",
   "execution_count": 13,
   "metadata": {},
   "outputs": [],
   "source": [
    "def plot(episodes, losses_list, reward_list, epsilons_list):\n",
    "        \"\"\"Plot the training progresses.\"\"\"\n",
    "        clear_output(True)\n",
    "        plt.figure(figsize=(20, 5))\n",
    "        plt.subplot(131)\n",
    "        plt.title('rewards')\n",
    "        plt.plot(reward_list)\n",
    "        plt.subplot(132)\n",
    "        plt.title('loss')\n",
    "        plt.plot(losses_list)\n",
    "        #plt.ylim(0, 10)\n",
    "        plt.subplot(133)\n",
    "        plt.title('epsilons')\n",
    "        plt.plot(epsilons_list)\n",
    "        plt.show()"
   ]
  },
  {
   "cell_type": "code",
   "execution_count": 14,
   "metadata": {},
   "outputs": [
    {
     "data": {
      "image/png": "[encoded data removed]",
      "text/plain": [
       "<Figure size 1440x360 with 3 Axes>"
      ]
     },
     "metadata": {
      "needs_background": "light"
     },
     "output_type": "display_data"
    }
   ],
   "source": [
    "plot(episodes, losses_list, reward_list, epsilons_list)"
   ]
  },
  {
   "cell_type": "code",
   "execution_count": 15,
   "metadata": {},
   "outputs": [
    {
     "name": "stdout",
     "output_type": "stream",
     "text": [
      "score:  200.0\n"
     ]
    }
   ],
   "source": [
    "#test model\n",
    "agent.test()"
   ]
  },
  {
   "cell_type": "code",
   "execution_count": 16,
   "metadata": {},
   "outputs": [],
   "source": [
    "#%mkdir checkpoint best_model\n",
    "checkpoint = {'model': agent.dqn,\n",
    "              'state_dict': agent.dqn.state_dict(),\n",
    "              'optimizer' : agent.optimizer.state_dict()}"
   ]
  },
  {
   "cell_type": "code",
   "execution_count": 17,
   "metadata": {},
   "outputs": [
    {
     "name": "stderr",
     "output_type": "stream",
     "text": [
      "C:\\Users\\omarb\\Anaconda3\\lib\\site-packages\\torch\\serialization.py:256: UserWarning: Couldn't retrieve source code for container of type Network. It won't be checked for correctness upon loading.\n",
      "  \"type \" + obj.__name__ + \". It won't be checked \"\n"
     ]
    }
   ],
   "source": [
    "torch.save(checkpoint, \"best_model/checkpoint.pt\")\n"
   ]
  },
  {
   "cell_type": "code",
   "execution_count": 18,
   "metadata": {},
   "outputs": [
    {
     "data": {
      "text/plain": [
       "<generator object Module.parameters at 0x0000027110CF8F48>"
      ]
     },
     "execution_count": 18,
     "metadata": {},
     "output_type": "execute_result"
    }
   ],
   "source": [
    "agent.dqn.parameters()"
   ]
  },
  {
   "cell_type": "code",
   "execution_count": 19,
   "metadata": {},
   "outputs": [
    {
     "name": "stdout",
     "output_type": "stream",
     "text": [
      "cuda\n"
     ]
    },
    {
     "data": {
      "text/plain": [
       "Network(\n",
       "  (layers): Sequential(\n",
       "    (0): Linear(in_features=4, out_features=256, bias=True)\n",
       "    (1): ReLU()\n",
       "    (2): Linear(in_features=256, out_features=128, bias=True)\n",
       "    (3): ReLU()\n",
       "    (4): Linear(in_features=128, out_features=64, bias=True)\n",
       "    (5): ReLU()\n",
       "    (6): Linear(in_features=64, out_features=2, bias=True)\n",
       "    (7): ReLU()\n",
       "  )\n",
       ")"
      ]
     },
     "execution_count": 19,
     "metadata": {},
     "output_type": "execute_result"
    }
   ],
   "source": [
    "agent0 = DQNAgent(env, memory_size, batch_size, hard_update_every, epsilon_param, gamma)\n",
    "checkpoint = torch.load(\"best_model/checkpoint.pt\")\n",
    "agent0.dqn = checkpoint['model']\n",
    "agent0.dqn.load_state_dict(checkpoint['state_dict'])\n",
    "for parameter in agent0.dqn.parameters():\n",
    "    parameter.requires_grad = False\n",
    "    \n",
    "agent0.dqn.eval()\n",
    "    "
   ]
  },
  {
   "cell_type": "code",
   "execution_count": 20,
   "metadata": {},
   "outputs": [
    {
     "name": "stdout",
     "output_type": "stream",
     "text": [
      "score:  17.0\n"
     ]
    }
   ],
   "source": [
    "#test model\n",
    "agent0.test()"
   ]
  },
  {
   "cell_type": "code",
   "execution_count": null,
   "metadata": {},
   "outputs": [],
   "source": []
  },
  {
   "cell_type": "code",
   "execution_count": null,
   "metadata": {},
   "outputs": [],
   "source": []
  }
 ],
 "metadata": {
  "kernelspec": {
   "display_name": "Python 3",
   "language": "python",
   "name": "python3"
  },
  "language_info": {
   "codemirror_mode": {
    "name": "ipython",
    "version": 3
   },
   "file_extension": ".py",
   "mimetype": "text/x-python",
   "name": "python",
   "nbconvert_exporter": "python",
   "pygments_lexer": "ipython3",
   "version": "3.7.3"
  }
 },
 "nbformat": 4,
 "nbformat_minor": 4
}
